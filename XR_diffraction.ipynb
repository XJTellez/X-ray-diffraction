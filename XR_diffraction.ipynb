{
  "nbformat": 4,
  "nbformat_minor": 0,
  "metadata": {
    "colab": {
      "provenance": [],
      "include_colab_link": true
    },
    "kernelspec": {
      "name": "python3",
      "display_name": "Python 3"
    },
    "language_info": {
      "name": "python"
    }
  },
  "cells": [
    {
      "cell_type": "markdown",
      "metadata": {
        "id": "view-in-github",
        "colab_type": "text"
      },
      "source": [
        "<a href=\"https://colab.research.google.com/github/XJTellez/X-ray-diffraction/blob/main/XR_diffraction.ipynb\" target=\"_parent\"><img src=\"https://colab.research.google.com/assets/colab-badge.svg\" alt=\"Open In Colab\"/></a>"
      ]
    },
    {
      "cell_type": "markdown",
      "metadata": {
        "id": "7jt72DQHIpxz"
      },
      "source": [
        "## Difracción de rayos X."
      ]
    },
    {
      "cell_type": "code",
      "metadata": {
        "id": "2SeXZkDIIpGH"
      },
      "source": [
        "# Primero se llaman las bibliotecas a utilizar\n",
        "import numpy as np"
      ],
      "execution_count": 1,
      "outputs": []
    },
    {
      "cell_type": "code",
      "metadata": {
        "id": "mNOSX6l3JLYx"
      },
      "source": [
        "# Se ingresan los valores de 2 theta ((valores separados por coma))\n",
        "dos_theta = np.array((42.8, 73.2, 89.0,115.0))"
      ],
      "execution_count": 2,
      "outputs": []
    },
    {
      "cell_type": "code",
      "metadata": {
        "colab": {
          "base_uri": "https://localhost:8080/"
        },
        "id": "0bsFhB3JJfn2",
        "outputId": "2e54e6f8-28b5-463d-d345-f9ec2d56e9b5"
      },
      "source": [
        "# Se verifican los datos ingresados\n",
        "dos_theta "
      ],
      "execution_count": 3,
      "outputs": [
        {
          "output_type": "execute_result",
          "data": {
            "text/plain": [
              "array([ 42.8,  73.2,  89. , 115. ])"
            ]
          },
          "metadata": {},
          "execution_count": 3
        }
      ]
    },
    {
      "cell_type": "code",
      "metadata": {
        "colab": {
          "base_uri": "https://localhost:8080/"
        },
        "id": "zjLK6EpPJg4k",
        "outputId": "902cc5d7-7d8f-4682-b23e-aa06c225c7d2"
      },
      "source": [
        "# Se obtiene theta.\n",
        "theta = dos_theta/2.0\n",
        "\n",
        "# Se verifican los valores de theta\n",
        "theta"
      ],
      "execution_count": 4,
      "outputs": [
        {
          "output_type": "execute_result",
          "data": {
            "text/plain": [
              "array([21.4, 36.6, 44.5, 57.5])"
            ]
          },
          "metadata": {},
          "execution_count": 4
        }
      ]
    },
    {
      "cell_type": "code",
      "metadata": {
        "colab": {
          "base_uri": "https://localhost:8080/"
        },
        "id": "RJcQCWMSUgnB",
        "outputId": "d4fea16b-729d-4008-ffce-4d4be6dd5cf9"
      },
      "source": [
        "# Se convierte theta a radianes\n",
        "theta_rad = 2.0*np.pi*theta/360.\n",
        "theta_rad"
      ],
      "execution_count": 5,
      "outputs": [
        {
          "output_type": "execute_result",
          "data": {
            "text/plain": [
              "array([0.37350046, 0.63879051, 0.77667152, 1.00356432])"
            ]
          },
          "metadata": {},
          "execution_count": 5
        }
      ]
    },
    {
      "cell_type": "code",
      "metadata": {
        "colab": {
          "base_uri": "https://localhost:8080/"
        },
        "id": "tX3TgBqIKPsA",
        "outputId": "9b758eea-d98e-408a-cd10-a04fad1a3a5d"
      },
      "source": [
        "# Se cacula el sen^2 theta\n",
        "sen_quad = np.sin(theta_rad)**2.0\n",
        "\n",
        "# Se imprime el valor\n",
        "sen_quad"
      ],
      "execution_count": 6,
      "outputs": [
        {
          "output_type": "execute_result",
          "data": {
            "text/plain": [
              "array([0.13313507, 0.3554841 , 0.4912738 , 0.71130913])"
            ]
          },
          "metadata": {},
          "execution_count": 6
        }
      ]
    },
    {
      "cell_type": "code",
      "metadata": {
        "colab": {
          "base_uri": "https://localhost:8080/"
        },
        "id": "AFvf4xPKM6ga",
        "outputId": "86eadc02-d665-4c92-e752-5588ffd38476"
      },
      "source": [
        "# Para el ángulo minimo\n",
        "theta_rad[0]"
      ],
      "execution_count": 8,
      "outputs": [
        {
          "output_type": "execute_result",
          "data": {
            "text/plain": [
              "0.3735004599267865"
            ]
          },
          "metadata": {},
          "execution_count": 8
        }
      ]
    },
    {
      "cell_type": "code",
      "metadata": {
        "colab": {
          "base_uri": "https://localhost:8080/"
        },
        "id": "88G5MkKwKrsN",
        "outputId": "6d7beedf-86fa-49b4-9441-585efa88bcc9"
      },
      "source": [
        "# Se calcula el sen^2 theta/ sen^2 theta min\n",
        "# El theta min corresponde al primer elemento del arreglo.\n",
        "sen_sen_min = np.sin(theta_rad)**2.0/np.sin(theta_rad[0])**2.0\n",
        "\n",
        "# Se imprime el valor\n",
        "sen_sen_min"
      ],
      "execution_count": 9,
      "outputs": [
        {
          "output_type": "execute_result",
          "data": {
            "text/plain": [
              "array([1.        , 2.67010118, 3.69004054, 5.34276313])"
            ]
          },
          "metadata": {},
          "execution_count": 9
        }
      ]
    },
    {
      "cell_type": "code",
      "metadata": {
        "colab": {
          "base_uri": "https://localhost:8080/"
        },
        "id": "ox8V19zeLphv",
        "outputId": "ad217bc9-e7b6-4b79-d5d6-606373847ca4"
      },
      "source": [
        "# Se multiplica el resultado anterior por dos\n",
        "dos_sen_sen_min = 2.*sen_sen_min\n",
        "\n",
        "# Se imprime el valor\n",
        "dos_sen_sen_min"
      ],
      "execution_count": 10,
      "outputs": [
        {
          "output_type": "execute_result",
          "data": {
            "text/plain": [
              "array([ 2.        ,  5.34020236,  7.38008107, 10.68552625])"
            ]
          },
          "metadata": {},
          "execution_count": 10
        }
      ]
    },
    {
      "cell_type": "code",
      "metadata": {
        "colab": {
          "base_uri": "https://localhost:8080/"
        },
        "id": "me3q2j-xMT_U",
        "outputId": "844ac10d-faa1-41a7-91c6-3f8d7255b152"
      },
      "source": [
        "# Se multiplica el resultado anterior por tres\n",
        "tres_sen_sen_min = 3.*sen_sen_min\n",
        "\n",
        "# Se imprime el valor\n",
        "tres_sen_sen_min"
      ],
      "execution_count": 11,
      "outputs": [
        {
          "output_type": "execute_result",
          "data": {
            "text/plain": [
              "array([ 3.        ,  8.01030354, 11.07012161, 16.02828938])"
            ]
          },
          "metadata": {},
          "execution_count": 11
        }
      ]
    },
    {
      "cell_type": "code",
      "metadata": {
        "id": "Bxe0bn2OMf9e",
        "colab": {
          "base_uri": "https://localhost:8080/"
        },
        "outputId": "fa825240-f9d5-47b4-c50e-2b88fe9a12f7"
      },
      "source": [
        "# Se redondea al entero más próximo para obtener s\n",
        "s = np.round(tres_sen_sen_min)\n",
        "\n",
        "# Imprime s\n",
        "s"
      ],
      "execution_count": 13,
      "outputs": [
        {
          "output_type": "execute_result",
          "data": {
            "text/plain": [
              "array([ 3.,  8., 11., 16.])"
            ]
          },
          "metadata": {},
          "execution_count": 13
        }
      ]
    },
    {
      "cell_type": "code",
      "metadata": {
        "id": "gfqy7RrmR7_u"
      },
      "source": [
        "# Se guardan h, k, l.\n",
        "h = np.array((1,2,3,4))\n",
        "k = np.array((1,2,1,0))\n",
        "l = np.array((1,0,1,0))"
      ],
      "execution_count": 15,
      "outputs": []
    },
    {
      "cell_type": "code",
      "metadata": {
        "id": "FjgXxmCgSTy7"
      },
      "source": [
        "# Se elevan al cuadrado\n",
        "hh = h**2.0\n",
        "kk = k**2.0\n",
        "ll = l**2.0"
      ],
      "execution_count": 16,
      "outputs": []
    },
    {
      "cell_type": "code",
      "metadata": {
        "id": "ottRadTlScpt"
      },
      "source": [
        "# Se asigna el valor de la longitud de onda \n",
        "long = 1.5"
      ],
      "execution_count": 19,
      "outputs": []
    },
    {
      "cell_type": "code",
      "metadata": {
        "id": "nwyCrXRiSj3q",
        "colab": {
          "base_uri": "https://localhost:8080/"
        },
        "outputId": "d047ebfd-5c89-4372-f5ca-fd72f6463386"
      },
      "source": [
        "# Se calcula el factor de escala.\n",
        "a = np.sqrt(long**2.0*(hh + kk + ll)/(4.0*sen_quad))\n",
        "a"
      ],
      "execution_count": 20,
      "outputs": [
        {
          "output_type": "execute_result",
          "data": {
            "text/plain": [
              "array([3.56021035, 3.55791989, 3.5489167 , 3.55706714])"
            ]
          },
          "metadata": {},
          "execution_count": 20
        }
      ]
    },
    {
      "cell_type": "code",
      "metadata": {
        "id": "YWCCevOCSd-F"
      },
      "source": [
        "# Para acomodar los datos obtenidos en una tabla se necesita la biblioteca siguiente\n",
        "import pandas as pd"
      ],
      "execution_count": 22,
      "outputs": []
    },
    {
      "cell_type": "code",
      "metadata": {
        "colab": {
          "base_uri": "https://localhost:8080/"
        },
        "id": "7ohJOeyqSkkX",
        "outputId": "7f6d51f7-f52b-415d-a623-0901688d514f"
      },
      "source": [
        "# El arreglo nos da el número de picos\n",
        "# Dependiendo del número de ángulos considerados al inicio\n",
        "\n",
        "# Se guardan los números\n",
        "n = []\n",
        "\n",
        "# El for irá ingresando los valores\n",
        "for i in range(len(theta_rad)):\n",
        "  n.append(i+1)\n",
        "\n",
        "# Se verifican los valores\n",
        "n"
      ],
      "execution_count": 26,
      "outputs": [
        {
          "output_type": "execute_result",
          "data": {
            "text/plain": [
              "[1, 2, 3, 4]"
            ]
          },
          "metadata": {},
          "execution_count": 26
        }
      ]
    },
    {
      "cell_type": "code",
      "metadata": {
        "id": "q2qR0cCJSn67"
      },
      "source": [
        "# Se realiza la tabla\n",
        "df = pd.DataFrame(\n",
        "    {\n",
        "        \"n\" : n,                                              # número de picos\n",
        "        \"2theta\": dos_theta,                                  # dos theta\n",
        "        \"sin^2(theta)\": sen_quad,                              # seno cuadrado del ángulo\n",
        "        \"sin^2(theta)/sin^2(theta_min)\" : sen_sen_min,          #seno cuadrado del ángulo entre seno cuadrado del angulo mínimo\n",
        "        \"2 x sin^2(theta)/sin^2(theta_min)\" : dos_sen_sen_min,  # dos veces el resultado anterior\n",
        "        \"3 x sin^2(theta)/sin^2(theta_min)\" : tres_sen_sen_min, #tres veces el resultado anterior.\n",
        "        \"s\" : s,                                              # s\n",
        "        \"h\" : h,                                              # h\n",
        "        \"k\" : k,                                              # k\n",
        "        \"l\" : l,                                              # l\n",
        "        \"a\" : a,                                              # factor de escala\n",
        "    }\n",
        ")"
      ],
      "execution_count": 30,
      "outputs": []
    },
    {
      "cell_type": "code",
      "metadata": {
        "colab": {
          "base_uri": "https://localhost:8080/",
          "height": 236
        },
        "id": "LF05xOSKTy8n",
        "outputId": "d1d991a5-925c-4083-d606-fb6ad1dc1965"
      },
      "source": [
        "# Se imprime la tabla de resultados\n",
        "df"
      ],
      "execution_count": 31,
      "outputs": [
        {
          "output_type": "execute_result",
          "data": {
            "text/plain": [
              "   n  2theta  sin^2(theta)  sin^2(theta)/sin^2(theta_min)  \\\n",
              "0  1    42.8      0.133135                       1.000000   \n",
              "1  2    73.2      0.355484                       2.670101   \n",
              "2  3    89.0      0.491274                       3.690041   \n",
              "3  4   115.0      0.711309                       5.342763   \n",
              "\n",
              "   2 x sin^2(theta)/sin^2(theta_min)  3 x sin^2(theta)/sin^2(theta_min)     s  \\\n",
              "0                           2.000000                           3.000000   3.0   \n",
              "1                           5.340202                           8.010304   8.0   \n",
              "2                           7.380081                          11.070122  11.0   \n",
              "3                          10.685526                          16.028289  16.0   \n",
              "\n",
              "   h  k  l         a  \n",
              "0  1  1  1  3.560210  \n",
              "1  2  2  0  3.557920  \n",
              "2  3  1  1  3.548917  \n",
              "3  4  0  0  3.557067  "
            ],
            "text/html": [
              "\n",
              "  <div id=\"df-e6a46fdb-25c6-4686-bfb4-5459e2290bd1\">\n",
              "    <div class=\"colab-df-container\">\n",
              "      <div>\n",
              "<style scoped>\n",
              "    .dataframe tbody tr th:only-of-type {\n",
              "        vertical-align: middle;\n",
              "    }\n",
              "\n",
              "    .dataframe tbody tr th {\n",
              "        vertical-align: top;\n",
              "    }\n",
              "\n",
              "    .dataframe thead th {\n",
              "        text-align: right;\n",
              "    }\n",
              "</style>\n",
              "<table border=\"1\" class=\"dataframe\">\n",
              "  <thead>\n",
              "    <tr style=\"text-align: right;\">\n",
              "      <th></th>\n",
              "      <th>n</th>\n",
              "      <th>2theta</th>\n",
              "      <th>sin^2(theta)</th>\n",
              "      <th>sin^2(theta)/sin^2(theta_min)</th>\n",
              "      <th>2 x sin^2(theta)/sin^2(theta_min)</th>\n",
              "      <th>3 x sin^2(theta)/sin^2(theta_min)</th>\n",
              "      <th>s</th>\n",
              "      <th>h</th>\n",
              "      <th>k</th>\n",
              "      <th>l</th>\n",
              "      <th>a</th>\n",
              "    </tr>\n",
              "  </thead>\n",
              "  <tbody>\n",
              "    <tr>\n",
              "      <th>0</th>\n",
              "      <td>1</td>\n",
              "      <td>42.8</td>\n",
              "      <td>0.133135</td>\n",
              "      <td>1.000000</td>\n",
              "      <td>2.000000</td>\n",
              "      <td>3.000000</td>\n",
              "      <td>3.0</td>\n",
              "      <td>1</td>\n",
              "      <td>1</td>\n",
              "      <td>1</td>\n",
              "      <td>3.560210</td>\n",
              "    </tr>\n",
              "    <tr>\n",
              "      <th>1</th>\n",
              "      <td>2</td>\n",
              "      <td>73.2</td>\n",
              "      <td>0.355484</td>\n",
              "      <td>2.670101</td>\n",
              "      <td>5.340202</td>\n",
              "      <td>8.010304</td>\n",
              "      <td>8.0</td>\n",
              "      <td>2</td>\n",
              "      <td>2</td>\n",
              "      <td>0</td>\n",
              "      <td>3.557920</td>\n",
              "    </tr>\n",
              "    <tr>\n",
              "      <th>2</th>\n",
              "      <td>3</td>\n",
              "      <td>89.0</td>\n",
              "      <td>0.491274</td>\n",
              "      <td>3.690041</td>\n",
              "      <td>7.380081</td>\n",
              "      <td>11.070122</td>\n",
              "      <td>11.0</td>\n",
              "      <td>3</td>\n",
              "      <td>1</td>\n",
              "      <td>1</td>\n",
              "      <td>3.548917</td>\n",
              "    </tr>\n",
              "    <tr>\n",
              "      <th>3</th>\n",
              "      <td>4</td>\n",
              "      <td>115.0</td>\n",
              "      <td>0.711309</td>\n",
              "      <td>5.342763</td>\n",
              "      <td>10.685526</td>\n",
              "      <td>16.028289</td>\n",
              "      <td>16.0</td>\n",
              "      <td>4</td>\n",
              "      <td>0</td>\n",
              "      <td>0</td>\n",
              "      <td>3.557067</td>\n",
              "    </tr>\n",
              "  </tbody>\n",
              "</table>\n",
              "</div>\n",
              "      <button class=\"colab-df-convert\" onclick=\"convertToInteractive('df-e6a46fdb-25c6-4686-bfb4-5459e2290bd1')\"\n",
              "              title=\"Convert this dataframe to an interactive table.\"\n",
              "              style=\"display:none;\">\n",
              "        \n",
              "  <svg xmlns=\"http://www.w3.org/2000/svg\" height=\"24px\"viewBox=\"0 0 24 24\"\n",
              "       width=\"24px\">\n",
              "    <path d=\"M0 0h24v24H0V0z\" fill=\"none\"/>\n",
              "    <path d=\"M18.56 5.44l.94 2.06.94-2.06 2.06-.94-2.06-.94-.94-2.06-.94 2.06-2.06.94zm-11 1L8.5 8.5l.94-2.06 2.06-.94-2.06-.94L8.5 2.5l-.94 2.06-2.06.94zm10 10l.94 2.06.94-2.06 2.06-.94-2.06-.94-.94-2.06-.94 2.06-2.06.94z\"/><path d=\"M17.41 7.96l-1.37-1.37c-.4-.4-.92-.59-1.43-.59-.52 0-1.04.2-1.43.59L10.3 9.45l-7.72 7.72c-.78.78-.78 2.05 0 2.83L4 21.41c.39.39.9.59 1.41.59.51 0 1.02-.2 1.41-.59l7.78-7.78 2.81-2.81c.8-.78.8-2.07 0-2.86zM5.41 20L4 18.59l7.72-7.72 1.47 1.35L5.41 20z\"/>\n",
              "  </svg>\n",
              "      </button>\n",
              "      \n",
              "  <style>\n",
              "    .colab-df-container {\n",
              "      display:flex;\n",
              "      flex-wrap:wrap;\n",
              "      gap: 12px;\n",
              "    }\n",
              "\n",
              "    .colab-df-convert {\n",
              "      background-color: #E8F0FE;\n",
              "      border: none;\n",
              "      border-radius: 50%;\n",
              "      cursor: pointer;\n",
              "      display: none;\n",
              "      fill: #1967D2;\n",
              "      height: 32px;\n",
              "      padding: 0 0 0 0;\n",
              "      width: 32px;\n",
              "    }\n",
              "\n",
              "    .colab-df-convert:hover {\n",
              "      background-color: #E2EBFA;\n",
              "      box-shadow: 0px 1px 2px rgba(60, 64, 67, 0.3), 0px 1px 3px 1px rgba(60, 64, 67, 0.15);\n",
              "      fill: #174EA6;\n",
              "    }\n",
              "\n",
              "    [theme=dark] .colab-df-convert {\n",
              "      background-color: #3B4455;\n",
              "      fill: #D2E3FC;\n",
              "    }\n",
              "\n",
              "    [theme=dark] .colab-df-convert:hover {\n",
              "      background-color: #434B5C;\n",
              "      box-shadow: 0px 1px 3px 1px rgba(0, 0, 0, 0.15);\n",
              "      filter: drop-shadow(0px 1px 2px rgba(0, 0, 0, 0.3));\n",
              "      fill: #FFFFFF;\n",
              "    }\n",
              "  </style>\n",
              "\n",
              "      <script>\n",
              "        const buttonEl =\n",
              "          document.querySelector('#df-e6a46fdb-25c6-4686-bfb4-5459e2290bd1 button.colab-df-convert');\n",
              "        buttonEl.style.display =\n",
              "          google.colab.kernel.accessAllowed ? 'block' : 'none';\n",
              "\n",
              "        async function convertToInteractive(key) {\n",
              "          const element = document.querySelector('#df-e6a46fdb-25c6-4686-bfb4-5459e2290bd1');\n",
              "          const dataTable =\n",
              "            await google.colab.kernel.invokeFunction('convertToInteractive',\n",
              "                                                     [key], {});\n",
              "          if (!dataTable) return;\n",
              "\n",
              "          const docLinkHtml = 'Like what you see? Visit the ' +\n",
              "            '<a target=\"_blank\" href=https://colab.research.google.com/notebooks/data_table.ipynb>data table notebook</a>'\n",
              "            + ' to learn more about interactive tables.';\n",
              "          element.innerHTML = '';\n",
              "          dataTable['output_type'] = 'display_data';\n",
              "          await google.colab.output.renderOutput(dataTable, element);\n",
              "          const docLink = document.createElement('div');\n",
              "          docLink.innerHTML = docLinkHtml;\n",
              "          element.appendChild(docLink);\n",
              "        }\n",
              "      </script>\n",
              "    </div>\n",
              "  </div>\n",
              "  "
            ]
          },
          "metadata": {},
          "execution_count": 31
        }
      ]
    },
    {
      "cell_type": "code",
      "metadata": {
        "id": "qgYc13kRT0O2"
      },
      "source": [],
      "execution_count": null,
      "outputs": []
    }
  ]
}